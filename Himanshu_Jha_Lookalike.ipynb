{
 "cells": [
  {
   "cell_type": "code",
   "execution_count": 1,
   "id": "b351e5b7-b8c8-4d63-b07a-48c8e1c011ae",
   "metadata": {},
   "outputs": [],
   "source": [
    "import pandas as pd\n",
    "from sklearn.feature_extraction.text import CountVectorizer\n",
    "from sklearn.preprocessing import StandardScaler\n",
    "from sklearn.metrics.pairwise import cosine_similarity\n",
    "import numpy as np\n"
   ]
  },
  {
   "cell_type": "code",
   "execution_count": 2,
   "id": "b53146ca-f822-4772-b975-6c2516268c99",
   "metadata": {},
   "outputs": [],
   "source": [
    "# Load datasets\n",
    "customers = pd.read_csv(\"Customers.csv\")\n",
    "products = pd.read_csv(\"Products.csv\")\n",
    "transactions = pd.read_csv(\"Transactions.csv\")"
   ]
  },
  {
   "cell_type": "code",
   "execution_count": 3,
   "id": "0109de4b-f611-476f-9f1a-3ec23caa72d3",
   "metadata": {},
   "outputs": [
    {
     "name": "stdout",
     "output_type": "stream",
     "text": [
      "  CustomerID        CustomerName         Region  SignupDate\n",
      "0      C0001    Lawrence Carroll  South America  2022-07-10\n",
      "1      C0002      Elizabeth Lutz           Asia  2022-02-13\n",
      "2      C0003      Michael Rivera  South America  2024-03-07\n",
      "3      C0004  Kathleen Rodriguez  South America  2022-10-09\n",
      "4      C0005         Laura Weber           Asia  2022-08-15\n",
      "  ProductID              ProductName     Category   Price\n",
      "0      P001     ActiveWear Biography        Books  169.30\n",
      "1      P002    ActiveWear Smartwatch  Electronics  346.30\n",
      "2      P003  ComfortLiving Biography        Books   44.12\n",
      "3      P004            BookWorld Rug   Home Decor   95.69\n",
      "4      P005          TechPro T-Shirt     Clothing  429.31\n",
      "  TransactionID CustomerID ProductID      TransactionDate  Quantity  \\\n",
      "0        T00001      C0199      P067  2024-08-25 12:38:23         1   \n",
      "1        T00112      C0146      P067  2024-05-27 22:23:54         1   \n",
      "2        T00166      C0127      P067  2024-04-25 07:38:55         1   \n",
      "3        T00272      C0087      P067  2024-03-26 22:55:37         2   \n",
      "4        T00363      C0070      P067  2024-03-21 15:10:10         3   \n",
      "\n",
      "   TotalValue   Price  \n",
      "0      300.68  300.68  \n",
      "1      300.68  300.68  \n",
      "2      300.68  300.68  \n",
      "3      601.36  300.68  \n",
      "4      902.04  300.68  \n"
     ]
    }
   ],
   "source": [
    "# Display the first few rows of each dataset\n",
    "print(customers.head())\n",
    "print(products.head())\n",
    "print(transactions.head())"
   ]
  },
  {
   "cell_type": "code",
   "execution_count": 4,
   "id": "076d7247-337b-45da-98a9-8aeaf0c43094",
   "metadata": {},
   "outputs": [],
   "source": [
    "# Merge Transactions with Products to include product details\n",
    "transactions_enriched = transactions.merge(products, on=\"ProductID\", how=\"left\")"
   ]
  },
  {
   "cell_type": "code",
   "execution_count": 5,
   "id": "f45a919f-2567-4f9e-8fac-c12e8ad5e0f8",
   "metadata": {},
   "outputs": [],
   "source": [
    "# Aggregate customer profiles based on transaction history\n",
    "customer_profiles = transactions_enriched.groupby(\"CustomerID\").agg(\n",
    "    total_spent=(\"TotalValue\", \"sum\"),\n",
    "    total_quantity=(\"Quantity\", \"sum\"),\n",
    "    avg_transaction_value=(\"TotalValue\", \"mean\"),\n",
    "    unique_products=(\"ProductID\", \"nunique\"),\n",
    "    categories=(\"Category\", lambda x: \",\".join(x.unique())), # List of unique categories purchased\n",
    ").reset_index()"
   ]
  },
  {
   "cell_type": "code",
   "execution_count": 6,
   "id": "23ca9543-333b-4d7c-823a-821ba29286a4",
   "metadata": {},
   "outputs": [],
   "source": [
    "# Add customer-level data from Customers.csv\n",
    "customer_profiles = customer_profiles.merge(customers, on=\"CustomerID\", how=\"left\")"
   ]
  },
  {
   "cell_type": "code",
   "execution_count": 7,
   "id": "3d07a480-e295-4a49-818c-5295ff6b04d6",
   "metadata": {},
   "outputs": [
    {
     "name": "stdout",
     "output_type": "stream",
     "text": [
      "  CustomerID  total_spent  total_quantity  avg_transaction_value  \\\n",
      "0      C0001      3354.52              12                670.904   \n",
      "1      C0002      1862.74              10                465.685   \n",
      "2      C0003      2725.38              14                681.345   \n",
      "3      C0004      5354.88              23                669.360   \n",
      "4      C0005      2034.24               7                678.080   \n",
      "\n",
      "   unique_products                       categories        CustomerName  \\\n",
      "0                5     Books,Home Decor,Electronics    Lawrence Carroll   \n",
      "1                4              Home Decor,Clothing      Elizabeth Lutz   \n",
      "2                4  Home Decor,Clothing,Electronics      Michael Rivera   \n",
      "3                8     Books,Home Decor,Electronics  Kathleen Rodriguez   \n",
      "4                3           Home Decor,Electronics         Laura Weber   \n",
      "\n",
      "          Region  SignupDate  \n",
      "0  South America  2022-07-10  \n",
      "1           Asia  2022-02-13  \n",
      "2  South America  2024-03-07  \n",
      "3  South America  2022-10-09  \n",
      "4           Asia  2022-08-15  \n"
     ]
    }
   ],
   "source": [
    "# Display aggregated customer profiles\n",
    "print(customer_profiles.head())"
   ]
  },
  {
   "cell_type": "code",
   "execution_count": 8,
   "id": "33a47b52-cabb-443f-a384-767abf0b33b7",
   "metadata": {},
   "outputs": [],
   "source": [
    "# Vectorize categorical data (categories and region)\n",
    "vectorizer = CountVectorizer()\n",
    "categories_matrix = vectorizer.fit_transform(customer_profiles[\"categories\"])\n",
    "region_dummies = pd.get_dummies(customer_profiles[\"Region\"])\n"
   ]
  },
  {
   "cell_type": "code",
   "execution_count": 9,
   "id": "19ac63d9-e5a9-4ed6-a370-264b6ae64975",
   "metadata": {},
   "outputs": [],
   "source": [
    "# Normalize numerical data\n",
    "numerical_features = customer_profiles[[\"total_spent\", \"total_quantity\", \"avg_transaction_value\", \"unique_products\"]]\n",
    "scaler = StandardScaler()\n",
    "numerical_matrix = scaler.fit_transform(numerical_features)"
   ]
  },
  {
   "cell_type": "code",
   "execution_count": 10,
   "id": "e4e2efd3-a1d2-4638-9445-66a064ec8863",
   "metadata": {},
   "outputs": [],
   "source": [
    "# Combine all feature sets into a single matrix\n",
    "combined_features = np.hstack([numerical_matrix, categories_matrix.toarray(), region_dummies.values])"
   ]
  },
  {
   "cell_type": "code",
   "execution_count": 11,
   "id": "25fbb21d-e872-4376-9498-9c7c0c789264",
   "metadata": {},
   "outputs": [],
   "source": [
    "# Compute pairwise cosine similarity\n",
    "similarity_matrix = cosine_similarity(combined_features)"
   ]
  },
  {
   "cell_type": "code",
   "execution_count": 12,
   "id": "f2ce1d4c-e8ec-4b17-bace-2108e43882bd",
   "metadata": {},
   "outputs": [],
   "source": [
    "def get_top_lookalikes(customer_index, similarity_matrix, customer_profiles, top_n=3):\n",
    "    similarity_scores = similarity_matrix[customer_index]\n",
    "    top_indices = np.argsort(similarity_scores)[::-1][1 : top_n + 1]  # Exclude itself\n",
    "    return [\n",
    "        (customer_profiles.iloc[idx][\"CustomerID\"], similarity_scores[idx])\n",
    "        for idx in top_indices\n",
    "    ]"
   ]
  },
  {
   "cell_type": "code",
   "execution_count": 13,
   "id": "ee03d1d8-6a5c-4f12-8a00-50cf7b692f96",
   "metadata": {},
   "outputs": [],
   "source": [
    "# For the first 20 customers (C0001 to C0020)\n",
    "top_20_customers = customer_profiles[customer_profiles[\"CustomerID\"].str.startswith(\"C00\")].head(20)\n",
    "lookalike_map = {}\n",
    "\n",
    "for i, cust_id in enumerate(top_20_customers[\"CustomerID\"]):\n",
    "    customer_index = customer_profiles[customer_profiles[\"CustomerID\"] == cust_id].index[0]\n",
    "    lookalike_map[cust_id] = get_top_lookalikes(customer_index, similarity_matrix, customer_profiles)"
   ]
  },
  {
   "cell_type": "code",
   "execution_count": 14,
   "id": "dae4ee06-1380-462a-9a3d-07cbf56ddf98",
   "metadata": {},
   "outputs": [],
   "source": [
    "# Convert lookalike map to a DataFrame\n",
    "lookalike_df = pd.DataFrame(\n",
    "    [\n",
    "        {\"CustomerID\": cust_id, \"Lookalikes\": str(lookalikes)}\n",
    "        for cust_id, lookalikes in lookalike_map.items()\n",
    "    ]\n",
    ")\n"
   ]
  },
  {
   "cell_type": "code",
   "execution_count": 17,
   "id": "dc2ea07a-72b9-46ab-89b6-b3f89b430fd6",
   "metadata": {},
   "outputs": [
    {
     "name": "stdout",
     "output_type": "stream",
     "text": [
      "CustomerID: C0001\n",
      "Top Lookalikes: [('C0152', 0.9896746353771764), ('C0174', 0.9795584938611778), ('C0190', 0.8950243618291727)]\n",
      "\n",
      "CustomerID: C0002\n",
      "Top Lookalikes: [('C0043', 0.9136068474099296), ('C0159', 0.896457003401917), ('C0134', 0.870177731355959)]\n",
      "\n",
      "CustomerID: C0003\n",
      "Top Lookalikes: [('C0129', 0.9141007494240401), ('C0031', 0.9088227454860375), ('C0190', 0.8846862683578113)]\n",
      "\n",
      "CustomerID: C0004\n",
      "Top Lookalikes: [('C0012', 0.9412614116801767), ('C0113', 0.9334987333389898), ('C0102', 0.9239062544382644)]\n",
      "\n",
      "CustomerID: C0005\n",
      "Top Lookalikes: [('C0007', 0.9436984783502785), ('C0140', 0.9164265528395711), ('C0146', 0.890125019586603)]\n",
      "\n",
      "CustomerID: C0006\n",
      "Top Lookalikes: [('C0187', 0.9609403801708463), ('C0079', 0.8723190164012803), ('C0196', 0.8674274176742649)]\n",
      "\n",
      "CustomerID: C0007\n",
      "Top Lookalikes: [('C0140', 0.9740444747856722), ('C0005', 0.9436984783502785), ('C0110', 0.8561889046975272)]\n",
      "\n",
      "CustomerID: C0008\n",
      "Top Lookalikes: [('C0098', 0.9268507278627724), ('C0109', 0.9110230679403942), ('C0024', 0.9008801294630456)]\n",
      "\n",
      "CustomerID: C0009\n",
      "Top Lookalikes: [('C0198', 0.9666591067486711), ('C0032', 0.8651189950491461), ('C0033', 0.859067519670206)]\n",
      "\n",
      "CustomerID: C0010\n",
      "Top Lookalikes: [('C0132', 0.8355711189588977), ('C0077', 0.8009398489006314), ('C0083', 0.7717255934534684)]\n",
      "\n",
      "CustomerID: C0011\n",
      "Top Lookalikes: [('C0107', 0.9953480879026276), ('C0126', 0.9529279280861332), ('C0155', 0.8251453126829776)]\n",
      "\n",
      "CustomerID: C0012\n",
      "Top Lookalikes: [('C0004', 0.9412614116801767), ('C0102', 0.9333873673852718), ('C0169', 0.9250084060659542)]\n",
      "\n",
      "CustomerID: C0013\n",
      "Top Lookalikes: [('C0155', 0.9858136383315375), ('C0099', 0.9830064090784065), ('C0087', 0.9792708237832348)]\n",
      "\n",
      "CustomerID: C0014\n",
      "Top Lookalikes: [('C0060', 0.9792522684504665), ('C0097', 0.9284055285734851), ('C0151', 0.9252223517599355)]\n",
      "\n",
      "CustomerID: C0015\n",
      "Top Lookalikes: [('C0131', 0.9753367123042065), ('C0036', 0.9009902817103239), ('C0123', 0.879918236548634)]\n",
      "\n",
      "CustomerID: C0016\n",
      "Top Lookalikes: [('C0183', 0.9878184836015971), ('C0125', 0.8170295106579298), ('C0117', 0.771008844892508)]\n",
      "\n",
      "CustomerID: C0017\n",
      "Top Lookalikes: [('C0075', 0.9618920816189509), ('C0124', 0.9375706638463797), ('C0057', 0.903573731764288)]\n",
      "\n",
      "CustomerID: C0018\n",
      "Top Lookalikes: [('C0148', 0.8656923547139368), ('C0046', 0.8583004466444547), ('C0117', 0.8472685591250194)]\n",
      "\n",
      "CustomerID: C0019\n",
      "Top Lookalikes: [('C0172', 0.8599437109899737), ('C0119', 0.84423855248657), ('C0121', 0.8158436377563909)]\n",
      "\n",
      "CustomerID: C0020\n",
      "Top Lookalikes: [('C0130', 0.822726523418481), ('C0078', 0.8205398320054496), ('C0050', 0.7877121561300703)]\n",
      "\n",
      "Lookalike recommendations saved to: Lookalike.csv\n"
     ]
    }
   ],
   "source": [
    "# Save the lookalike recommendations to CSV\n",
    "output_path = \"Lookalike.csv\"\n",
    "lookalike_df.to_csv(output_path, index=False)\n",
    "\n",
    "# Print lookalike recommendations\n",
    "for cust_id, lookalikes in lookalike_map.items():\n",
    "    print(f\"CustomerID: {cust_id}\\nTop Lookalikes: {lookalikes}\\n\")\n",
    "\n",
    "print(\"Lookalike recommendations saved to:\", output_path)"
   ]
  },
  {
   "cell_type": "code",
   "execution_count": null,
   "id": "d7d11662-edda-43e8-abc5-dd6e0b858fb0",
   "metadata": {},
   "outputs": [],
   "source": []
  }
 ],
 "metadata": {
  "kernelspec": {
   "display_name": "Python 3 (ipykernel)",
   "language": "python",
   "name": "python3"
  },
  "language_info": {
   "codemirror_mode": {
    "name": "ipython",
    "version": 3
   },
   "file_extension": ".py",
   "mimetype": "text/x-python",
   "name": "python",
   "nbconvert_exporter": "python",
   "pygments_lexer": "ipython3",
   "version": "3.12.7"
  }
 },
 "nbformat": 4,
 "nbformat_minor": 5
}
